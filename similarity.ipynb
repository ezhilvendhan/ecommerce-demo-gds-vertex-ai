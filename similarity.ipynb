{
  "cells": [
    {
      "cell_type": "markdown",
      "metadata": {
        "id": "JAPoU8Sm5E6e"
      },
      "source": [
        "<p>\n",
        "  <a href=\"https://colab.research.google.com/github/ezhilvendhan/ecommerce-demo-gds-vertex-ai/blob/main/similarity.ipynb\" target=\"_blank\">\n",
        "    <img src=\"https://cloud.google.com/ml-engine/images/colab-logo-32px.png\" alt=\"Colab logo\"> Run in Colab\n",
        "  </a>\n",
        "</p>"
      ]
    },
    {
      "cell_type": "markdown",
      "metadata": {
        "id": "JtcD7PrPzSqE"
      },
      "source": [
        "# Install Prerequisites\n",
        "First off, you'll also need to install a few packages."
      ]
    },
    {
      "cell_type": "code",
      "execution_count": null,
      "metadata": {
        "colab": {
          "base_uri": "https://localhost:8080/"
        },
        "id": "qwKogqD_He_e",
        "outputId": "1cf05546-9d2d-464a-dd05-dae766b17c32"
      },
      "outputs": [],
      "source": [
        "%pip install --quiet --upgrade graphdatascience\n",
        "%pip install --quiet google-cloud-storage"
      ]
    },
    {
      "cell_type": "markdown",
      "metadata": {
        "id": "IdMFRbqGzSqF"
      },
      "source": [
        "# Working with Neo4j\n",
        "You'll need to enter the credentials from your Neo4j instance below.  You can get these by running the command \":server connect\" in the Neo4j Browser.  The default DB_USER and DB_NAME are always neo4j."
      ]
    },
    {
      "cell_type": "code",
      "execution_count": null,
      "metadata": {
        "id": "P41l_P4zzSqF"
      },
      "outputs": [],
      "source": [
        "# Edit these variables!\n",
        "DB_URL = \"neo4j+s://URL:7687\"\n",
        "DB_PASS = \"\"\n",
        "\n",
        "# You can leave this default\n",
        "DB_USER = ''"
      ]
    },
    {
      "cell_type": "code",
      "execution_count": null,
      "metadata": {
        "id": "8lUkSvmozSqF"
      },
      "outputs": [],
      "source": [
        "from graphdatascience import GraphDataScience\n",
        "gds = GraphDataScience(DB_URL, auth=(DB_USER, DB_PASS), aura_ds=True)"
      ]
    },
    {
      "cell_type": "markdown",
      "metadata": {},
      "source": [
        "# Data Import"
      ]
    },
    {
      "cell_type": "markdown",
      "metadata": {},
      "source": [
        "## Create Constraints"
      ]
    },
    {
      "cell_type": "code",
      "execution_count": null,
      "metadata": {},
      "outputs": [],
      "source": [
        "result = gds.run_cypher(\n",
        "  \"\"\"\n",
        "    CREATE CONSTRAINT childCategoryIdConstraint IF NOT EXISTS FOR (c:Category) REQUIRE c.id IS UNIQUE;\n",
        "    CREATE CONSTRAINT attributeIdConstraint IF NOT EXISTS FOR (a:Attribute) REQUIRE a.id IS UNIQUE;\n",
        "    CREATE CONSTRAINT productIdConstraint IF NOT EXISTS FOR (p:Product) REQUIRE p.id IS UNIQUE;\n",
        "  \"\"\"\n",
        ")\n",
        "display(result)"
      ]
    },
    {
      "cell_type": "code",
      "execution_count": null,
      "metadata": {},
      "outputs": [],
      "source": [
        "result = gds.run_cypher(\n",
        "  \"\"\"\n",
        "    SHOW CONSTRAINTS YIELD id, name, type, entityType, labelsOrTypes, properties, ownedIndexId;\n",
        "  \"\"\"\n",
        ")\n",
        "display(result)"
      ]
    },
    {
      "cell_type": "markdown",
      "metadata": {},
      "source": [
        "## Load Data"
      ]
    },
    {
      "cell_type": "markdown",
      "metadata": {},
      "source": [
        "Create Nodes"
      ]
    },
    {
      "cell_type": "code",
      "execution_count": null,
      "metadata": {},
      "outputs": [],
      "source": [
        "result = gds.run_cypher(\n",
        "  \"\"\"\n",
        "    LOAD CSV WITH HEADERS \n",
        "    FROM 'https://raw.githubusercontent.com/ezhilvendhan/ecommerce-demo-gds-vertex-ai/data/import_node_category.csv' AS line WITH line\n",
        "    MERGE (n:Category {id:line.id,name:line.name})\n",
        "  \"\"\"\n",
        ")\n",
        "display(result)"
      ]
    },
    {
      "cell_type": "code",
      "execution_count": null,
      "metadata": {},
      "outputs": [],
      "source": [
        "result = gds.run_cypher(\n",
        "  \"\"\"\n",
        "    LOAD CSV WITH HEADERS \n",
        "    FROM 'https://raw.githubusercontent.com/ezhilvendhan/ecommerce-demo-gds-vertex-ai/data/import_node_sku.csv' AS line WITH line\n",
        "    MERGE (n:SKU {id:line.id,name:line.name,attributes:line.attributes,brand:line.brand,colour:line.colour,serial:line.serial})\n",
        "  \"\"\"\n",
        ")\n",
        "display(result)"
      ]
    },
    {
      "cell_type": "code",
      "execution_count": null,
      "metadata": {},
      "outputs": [],
      "source": [
        "result = gds.run_cypher(\n",
        "  \"\"\"\n",
        "    LOAD CSV WITH HEADERS \n",
        "    FROM 'https://raw.githubusercontent.com/ezhilvendhan/ecommerce-demo-gds-vertex-ai/data/import_node_keyword.csv' AS line WITH line\n",
        "    MERGE (n:Keyword {id:line.id,keywords:line.keywords})\n",
        "  \"\"\"\n",
        ")\n",
        "display(result)"
      ]
    },
    {
      "cell_type": "code",
      "execution_count": null,
      "metadata": {},
      "outputs": [],
      "source": [
        "result = gds.run_cypher(\n",
        "  \"\"\"\n",
        "    LOAD CSV WITH HEADERS \n",
        "    FROM 'https://raw.githubusercontent.com/ezhilvendhan/ecommerce-demo-gds-vertex-ai/data/import_node_product.csv' AS line WITH line\n",
        "    MERGE (n:Product {id:line.id,shop_id:line.shop_id,name:line.name})\n",
        "  \"\"\"\n",
        ")\n",
        "display(result)"
      ]
    },
    {
      "cell_type": "code",
      "execution_count": null,
      "metadata": {},
      "outputs": [],
      "source": [
        "result = gds.run_cypher(\n",
        "  \"\"\"\n",
        "    LOAD CSV WITH HEADERS \n",
        "    FROM 'https://raw.githubusercontent.com/ezhilvendhan/ecommerce-demo-gds-vertex-ai/data/import_node_attribute.csv' AS line WITH line\n",
        "    MERGE (n:Attribute {id:line.id,type:line.type,value:line.value})\n",
        "  \"\"\"\n",
        ")\n",
        "display(result)"
      ]
    },
    {
      "cell_type": "markdown",
      "metadata": {},
      "source": [
        "Create Relationships"
      ]
    },
    {
      "cell_type": "code",
      "execution_count": null,
      "metadata": {},
      "outputs": [],
      "source": [
        "result = gds.run_cypher(\n",
        "  \"\"\"\n",
        "    LOAD CSV WITH HEADERS \n",
        "    FROM 'https://raw.githubusercontent.com/ezhilvendhan/ecommerce-demo-gds-vertex-ai/data/import_relation_IS_CATEGORY.csv' AS line \n",
        "    WITH line\n",
        "    MATCH (from:SKU {id:line.sku_id}), (to:Category {id:line.category_id})\n",
        "    CREATE (from)-[:IS_CATEGORY]->(to)\n",
        "  \"\"\"\n",
        ")\n",
        "display(result)"
      ]
    },
    {
      "cell_type": "code",
      "execution_count": null,
      "metadata": {},
      "outputs": [],
      "source": [
        "result = gds.run_cypher(\n",
        "  \"\"\"\n",
        "    LOAD CSV WITH HEADERS \n",
        "    FROM 'https://raw.githubusercontent.com/ezhilvendhan/ecommerce-demo-gds-vertex-ai/data/import_relation_IS_SKU.csv' AS line \n",
        "    WITH line\n",
        "    MATCH (from:Product {id:line.product_id}), (to:SKU {id:line.sku_id})\n",
        "    CREATE (from)-[:IS_SKU]->(to)\n",
        "  \"\"\"\n",
        ")\n",
        "display(result)"
      ]
    },
    {
      "cell_type": "code",
      "execution_count": null,
      "metadata": {},
      "outputs": [],
      "source": [
        "result = gds.run_cypher(\n",
        "  \"\"\"\n",
        "    LOAD CSV WITH HEADERS \n",
        "    FROM 'https://raw.githubusercontent.com/ezhilvendhan/ecommerce-demo-gds-vertex-ai/data/import_relation_WITH_KEYWORD.csv' AS line \n",
        "    WITH line\n",
        "    MATCH (from:SKU {id:line.sku_id}), (to:Keyword {id:line.keyword_id})\n",
        "    CREATE (from)-[:WITH_KEYWORD]->(to)\n",
        "  \"\"\"\n",
        ")\n",
        "display(result)"
      ]
    },
    {
      "cell_type": "code",
      "execution_count": null,
      "metadata": {},
      "outputs": [],
      "source": [
        "result = gds.run_cypher(\n",
        "  \"\"\"\n",
        "    LOAD CSV WITH HEADERS \n",
        "    FROM 'https://raw.githubusercontent.com/ezhilvendhan/ecommerce-demo-gds-vertex-ai/data/import_relation_HOT_SALE.csv' AS line \n",
        "    WITH line\n",
        "    MATCH (from:SKU {id:line.sku_id}), (to:Product {id:line.product_id})\n",
        "    CREATE (from)-[:HOT_SALE]->(to)\n",
        "  \"\"\"\n",
        ")\n",
        "display(result)"
      ]
    },
    {
      "cell_type": "code",
      "execution_count": null,
      "metadata": {},
      "outputs": [],
      "source": [
        "result = gds.run_cypher(\n",
        "  \"\"\"\n",
        "    LOAD CSV WITH HEADERS \n",
        "    FROM 'https://raw.githubusercontent.com/ezhilvendhan/ecommerce-demo-gds-vertex-ai/data/import_relation_SUPPLEMENT_WITH.csv' AS line \n",
        "    WITH line\n",
        "    MATCH (from:SKU {id:line.from_sku_id}), (to:SKU {id:line.to_sku_id})\n",
        "    CREATE (from)-[:SUPPLEMENT_WITH]->(to)\n",
        "  \"\"\"\n",
        ")\n",
        "display(result)"
      ]
    },
    {
      "cell_type": "code",
      "execution_count": null,
      "metadata": {},
      "outputs": [],
      "source": [
        "result = gds.run_cypher(\n",
        "  \"\"\"\n",
        "    LOAD CSV WITH HEADERS \n",
        "    FROM 'https://raw.githubusercontent.com/ezhilvendhan/ecommerce-demo-gds-vertex-ai/data/import_relation_LOW_PRICE.csv' AS line \n",
        "    WITH line\n",
        "    MATCH (from:SKU {id:line.sku_id}), (to:Product {id:line.product_id})\n",
        "    CREATE (from)-[:LOW_PRICE]->(to)\n",
        "  \"\"\"\n",
        ")\n",
        "display(result)"
      ]
    },
    {
      "cell_type": "markdown",
      "metadata": {},
      "source": [
        "## Graph Data Science"
      ]
    },
    {
      "cell_type": "markdown",
      "metadata": {
        "id": "ZtJy4eO_zSqF"
      },
      "source": [
        "First we're going to create an in memory graph represtation of the data in Neo4j Graph Data Science (GDS)."
      ]
    },
    {
      "cell_type": "code",
      "execution_count": null,
      "metadata": {
        "colab": {
          "base_uri": "https://localhost:8080/",
          "height": 81
        },
        "id": "URRShWv0zSqG",
        "outputId": "357bc172-113b-4947-8f54-bef385ed95e8"
      },
      "outputs": [],
      "source": [
        "result = gds.run_cypher(\n",
        "  \"\"\"\n",
        "    CALL gds.graph.project(\n",
        "        'similarity-graph',\n",
        "        ['Product', 'Sku'],\n",
        "        '*'\n",
        "    )\n",
        "  \"\"\"\n",
        ")\n",
        "display(result)"
      ]
    },
    {
      "cell_type": "markdown",
      "metadata": {
        "id": "hFwZUeZY0jd7"
      },
      "source": [
        "Note, if you get an error saying the graph already exists, that's probably because you ran this code before. You can destroy it using this command:"
      ]
    },
    {
      "cell_type": "code",
      "execution_count": null,
      "metadata": {
        "colab": {
          "base_uri": "https://localhost:8080/",
          "height": 179
        },
        "id": "_bxCuwC_0gWZ",
        "outputId": "5c4f100a-20ad-48b8-a80c-00be46b5231d"
      },
      "outputs": [],
      "source": [
        "result = gds.run_cypher(\n",
        "  \"\"\"\n",
        "    CALL gds.graph.drop('similarity-graph')\n",
        "  \"\"\"\n",
        ")\n",
        "display(result)"
      ]
    },
    {
      "cell_type": "markdown",
      "metadata": {
        "id": "ZnnO932bBexn"
      },
      "source": [
        "Now, let's list the details of the graph to make sure the projection was created as we want."
      ]
    },
    {
      "cell_type": "code",
      "execution_count": null,
      "metadata": {
        "colab": {
          "base_uri": "https://localhost:8080/",
          "height": 179
        },
        "id": "7ZBPLijbrSCt",
        "outputId": "26bfdf3a-11c7-4667-c023-bd354fca1285"
      },
      "outputs": [],
      "source": [
        "result = gds.run_cypher(\n",
        "  \"\"\"\n",
        "    CALL gds.graph.list()\n",
        "  \"\"\"\n",
        ")\n",
        "display(result)"
      ]
    },
    {
      "cell_type": "markdown",
      "metadata": {
        "id": "4pFaTeUSzSqG"
      },
      "source": [
        "Nowe we can use NodeSimilarity Algorithm to find similar nodes. You can learn more about that [here](https://neo4j.com/docs/graph-data-science/current/algorithms/node-similarity/)."
      ]
    },
    {
      "cell_type": "code",
      "execution_count": null,
      "metadata": {
        "colab": {
          "base_uri": "https://localhost:8080/",
          "height": 81
        },
        "id": "VVxhVtTq4Kfc",
        "outputId": "0c4ce36e-85b0-4678-f488-a398e73f5172"
      },
      "outputs": [],
      "source": [
        "result = gds.run_cypher(\n",
        "  \"\"\"\n",
        "  CALL gds.nodeSimilarity.write('similarity-graph', {\n",
        "      writeRelationshipType: 'SIMILAR',\n",
        "      writeProperty: 'score'\n",
        "  })\n",
        "  YIELD nodesCompared, relationshipsWritten\n",
        "  \"\"\"\n",
        ")\n",
        "display(result)"
      ]
    },
    {
      "cell_type": "markdown",
      "metadata": {
        "id": "_GR9GCbFitFy"
      },
      "source": []
    },
    {
      "cell_type": "code",
      "execution_count": null,
      "metadata": {
        "colab": {
          "base_uri": "https://localhost:8080/",
          "height": 81
        },
        "id": "C-EKqaR-inUe",
        "outputId": "2f3c560d-bb1e-4115-a01d-b01c24d2796a"
      },
      "outputs": [],
      "source": [
        "result = gds.run_cypher(\n",
        "  \"\"\"\n",
        "    \n",
        "  \"\"\"\n",
        ")\n",
        "display(result)"
      ]
    },
    {
      "cell_type": "code",
      "execution_count": null,
      "metadata": {
        "colab": {
          "base_uri": "https://localhost:8080/",
          "height": 424
        },
        "id": "RLTjaLlMzSqH",
        "outputId": "3afc6eb1-c636-414c-9d38-0b72348f0290"
      },
      "outputs": [],
      "source": [
        "result = gds.run_cypher(\n",
        "  \"\"\"\n",
        "    \n",
        "  \"\"\"\n",
        ")\n",
        "display(result)"
      ]
    },
    {
      "cell_type": "markdown",
      "metadata": {
        "id": "IGeVDYfrCEZx"
      },
      "source": []
    },
    {
      "cell_type": "code",
      "execution_count": null,
      "metadata": {
        "colab": {
          "base_uri": "https://localhost:8080/",
          "height": 641
        },
        "id": "WUpaQ69smfJ9",
        "outputId": "d1c7b9a8-b7d3-4189-bd54-0915016a5827"
      },
      "outputs": [],
      "source": [
        "import pandas as pd\n",
        "df = pd.DataFrame([dict(record.items()) for record in result['n']])\n",
        "df"
      ]
    },
    {
      "cell_type": "markdown",
      "metadata": {
        "id": "ND0BKcgNDPgH"
      },
      "source": [
        "Note that the embedding row is an array. To make this dataset more consumable, we should flatten that out into multiple individual features: embedding_0, embedding_1, ... embedding_n.\n"
      ]
    },
    {
      "cell_type": "code",
      "execution_count": null,
      "metadata": {
        "colab": {
          "base_uri": "https://localhost:8080/",
          "height": 835
        },
        "id": "W11q18eTC6-N",
        "outputId": "58b8834e-4130-45e4-9ad4-a009c280f017"
      },
      "outputs": [],
      "source": [
        "embeddings = pd.DataFrame(df['embedding'].values.tolist()).add_prefix(\"embedding_\")\n",
        "merged = df.drop(columns=['embedding']).merge(embeddings, left_index=True, right_index=True)\n",
        "merged"
      ]
    },
    {
      "cell_type": "markdown",
      "metadata": {
        "id": "_ooXlcpRbFd0"
      },
      "source": [
        "Now that we have the data formatted properly, let's split it into a training and a testing set and write those to disk."
      ]
    },
    {
      "cell_type": "code",
      "execution_count": null,
      "metadata": {
        "id": "UdPgEiDdDu-B"
      },
      "outputs": [],
      "source": [
        "df = merged\n",
        "\n",
        "df['split']=df['reportCalendarOrQuarter']\n",
        "df['split']=df['split'].replace(['03-31-2021', '06-30-2021', '09-30-2021'], ['TRAIN', 'VALIDATE', 'TEST'])\n",
        "\n",
        "df = df.drop(columns=['reportCalendarOrQuarter'])\n",
        "\n",
        "df.to_csv('embedding.csv', index=False)"
      ]
    },
    {
      "cell_type": "markdown",
      "metadata": {
        "id": "GeK8OgtiAC7f"
      },
      "source": [
        "# Authenticate your Google Cloud Account\n",
        "Now let's write the file to Google Cloud Storage so we can use it in our model.  To do so, we must first authenticate.\n",
        "\n",
        "Edit the variables below.  You can find the project ID in the Google Cloud Console.  The STORAGE_BUCKET is the name of a new bucket.  It must be globally unique.  It also needs to be all lower case."
      ]
    },
    {
      "cell_type": "code",
      "execution_count": null,
      "metadata": {
        "id": "jU-jhjRjAC7f"
      },
      "outputs": [],
      "source": [
        "# Edit this variable!\n",
        "PROJECT_ID = 'your-project-id'\n",
        "\n",
        "# You can leave these defaults\n",
        "STORAGE_BUCKET = PROJECT_ID + '-ev-form13'\n",
        "REGION = 'us-central1'"
      ]
    },
    {
      "cell_type": "code",
      "execution_count": null,
      "metadata": {
        "id": "zIZFbwc0EygT"
      },
      "outputs": [],
      "source": [
        "import os\n",
        "os.environ['GCLOUD_PROJECT'] = PROJECT_ID"
      ]
    },
    {
      "cell_type": "code",
      "execution_count": null,
      "metadata": {
        "id": "7Yd7Him2FA0-"
      },
      "outputs": [],
      "source": [
        "try:\n",
        "    from google.colab import auth as google_auth\n",
        "    google_auth.authenticate_user()\n",
        "except:\n",
        "    pass"
      ]
    },
    {
      "cell_type": "markdown",
      "metadata": {
        "id": "Azb1inEVAC7f"
      },
      "source": [
        "# Upload to Google Cloud Storage\n",
        "Now we can upload our data sets to our bucket."
      ]
    },
    {
      "cell_type": "code",
      "execution_count": null,
      "metadata": {
        "id": "mRKBGEi3AC7f"
      },
      "outputs": [],
      "source": [
        "from google.cloud import storage\n",
        "client = storage.Client()"
      ]
    },
    {
      "cell_type": "code",
      "execution_count": null,
      "metadata": {
        "colab": {
          "base_uri": "https://localhost:8080/"
        },
        "id": "q9Y4HhC3AC7f",
        "outputId": "68b351a7-5765-4c61-be7b-ae79f5d5ecfd"
      },
      "outputs": [],
      "source": [
        "bucket = client.bucket(STORAGE_BUCKET)\n",
        "bucket.location=REGION\n",
        "client.create_bucket(bucket)"
      ]
    },
    {
      "cell_type": "code",
      "execution_count": null,
      "metadata": {
        "id": "h8_owAf-AC7g"
      },
      "outputs": [],
      "source": [
        "filename='embedding.csv'\n",
        "upload_path = os.path.join('form13', filename)\n",
        "blob = bucket.blob(upload_path)\n",
        "blob.upload_from_filename(filename)"
      ]
    }
  ],
  "metadata": {
    "colab": {
      "name": "embedding.ipynb",
      "provenance": [],
      "toc_visible": true
    },
    "kernelspec": {
      "display_name": "Python 3.8.9 64-bit",
      "language": "python",
      "name": "python3"
    },
    "language_info": {
      "codemirror_mode": {
        "name": "ipython",
        "version": 3
      },
      "file_extension": ".py",
      "mimetype": "text/x-python",
      "name": "python",
      "nbconvert_exporter": "python",
      "pygments_lexer": "ipython3",
      "version": "3.8.9"
    },
    "vscode": {
      "interpreter": {
        "hash": "31f2aee4e71d21fbe5cf8b01ff0e069b9275f58929596ceb00d14d90e3e16cd6"
      }
    }
  },
  "nbformat": 4,
  "nbformat_minor": 0
}
